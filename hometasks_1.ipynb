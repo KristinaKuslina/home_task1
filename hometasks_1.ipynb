{
 "cells": [
  {
   "cell_type": "code",
   "execution_count": 2,
   "metadata": {},
   "outputs": [
    {
     "name": "stdout",
     "output_type": "stream",
     "text": [
      "1 5 3 5 24 \n",
      "1\n",
      "3\n"
     ]
    }
   ],
   "source": [
    "#Exercise3 (2 points )\n",
    "my_list = []\n",
    "input_string = input()\n",
    "my_list = input_string.split()\n",
    "for i in range(0, len(my_list)):\n",
    "    if int(my_list[i]) < 5:\n",
    "        print(my_list[i])"
   ]
  },
  {
   "cell_type": "code",
   "execution_count": 6,
   "metadata": {},
   "outputs": [
    {
     "name": "stdout",
     "output_type": "stream",
     "text": [
      "12\n",
      "[1, 2, 3, 4, 6]\n"
     ]
    }
   ],
   "source": [
    "#Exercise4 (2 points)\n",
    "dig = int(input())\n",
    "div_list = []\n",
    "for i in range(1, dig):\n",
    "    if dig % i == 0:\n",
    "        div_list.append(i)\n",
    "print(div_list)"
   ]
  },
  {
   "cell_type": "code",
   "execution_count": 9,
   "metadata": {},
   "outputs": [
    {
     "name": "stdout",
     "output_type": "stream",
     "text": [
      "1 2 2 3 4 6\n",
      "1 1 2 2 4 5\n",
      "['1', '2', '4']\n"
     ]
    }
   ],
   "source": [
    "#Exercise5 (2 points)\n",
    "def find_in_list(my_list, elem):\n",
    "    for i in range(0, len(my_list)):\n",
    "        if my_list[i] == elem:\n",
    "            return True\n",
    "    else:\n",
    "        return False\n",
    "\n",
    "input_string1 = input()\n",
    "input_string2 = input()\n",
    "list1 = input_string1.split()\n",
    "list2 = input_string2.split()\n",
    "new_list = []\n",
    "for i in range(0, len(list1)):\n",
    "    if find_in_list(list2, list1[i]) == True:\n",
    "        if find_in_list(new_list, list1[i]) == False:\n",
    "            new_list.append(list1[i])\n",
    "print(new_list)"
   ]
  },
  {
   "cell_type": "code",
   "execution_count": 25,
   "metadata": {},
   "outputs": [
    {
     "name": "stdout",
     "output_type": "stream",
     "text": [
      "qwertewq\n",
      "False\n"
     ]
    }
   ],
   "source": [
    "#Exercise6 (2 points)\n",
    "string = input()\n",
    "result = True\n",
    "for i in range(0, len(string) // 2):\n",
    "    if string[i] != string[len(string) - i - 1]:\n",
    "        result = False\n",
    "print(result)"
   ]
  },
  {
   "cell_type": "code",
   "execution_count": 34,
   "metadata": {},
   "outputs": [
    {
     "name": "stdout",
     "output_type": "stream",
     "text": [
      "1 2 3 22 2  2  44 \n",
      "[2, 22, 2, 2, 44]\n"
     ]
    }
   ],
   "source": [
    "#Exercise7 (2 points)\n",
    "string = input()\n",
    "my_list = string.split()\n",
    "print([int(elem_in_list) for elem_in_list in my_list if int(elem_in_list) % 2 == 0])"
   ]
  },
  {
   "cell_type": "code",
   "execution_count": 38,
   "metadata": {},
   "outputs": [
    {
     "name": "stdout",
     "output_type": "stream",
     "text": [
      "10\n",
      "[1, 1, 2, 3, 5, 8, 13, 21, 34, 55]\n"
     ]
    }
   ],
   "source": [
    "#Exercise13 (2 points)\n",
    "n_fib = int(input())\n",
    "fib_list = []\n",
    "dig1 = 1\n",
    "dig2 = 1\n",
    "fib_list.append(dig1)\n",
    "fib_list.append(dig2)\n",
    "for i in range(1, n_fib - 1):\n",
    "    temp = dig2\n",
    "    dig2 = dig1 + dig2\n",
    "    fib_list.append(dig2)\n",
    "    dig1 = temp\n",
    "print(fib_list)"
   ]
  }
 ],
 "metadata": {
  "kernelspec": {
   "display_name": "Python 3",
   "language": "python",
   "name": "python3"
  },
  "language_info": {
   "codemirror_mode": {
    "name": "ipython",
    "version": 3
   },
   "file_extension": ".py",
   "mimetype": "text/x-python",
   "name": "python",
   "nbconvert_exporter": "python",
   "pygments_lexer": "ipython3",
   "version": "3.5.2"
  }
 },
 "nbformat": 4,
 "nbformat_minor": 2
}
