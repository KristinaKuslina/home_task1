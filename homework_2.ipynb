{
 "cells": [
  {
   "cell_type": "code",
   "execution_count": 66,
   "metadata": {},
   "outputs": [],
   "source": [
    "import numpy as np\n",
    "import math as m\n",
    "import matplotlib.pyplot as plt\n",
    "\n",
    "import scipy.cluster"
   ]
  },
  {
   "cell_type": "code",
   "execution_count": 42,
   "metadata": {},
   "outputs": [
    {
     "name": "stdout",
     "output_type": "stream",
     "text": [
      "[[0.84370305 0.74315426 0.07972764]\n",
      " [0.73605095 0.14041639 0.19543896]\n",
      " [0.44724062 0.06479896 0.06108643]\n",
      " [0.15736082 0.62661379 0.74151597]\n",
      " [0.68551532 0.96320325 0.40590487]\n",
      " [0.61230686 0.27753256 0.99925377]\n",
      " [0.20747488 0.88366365 0.67577048]\n",
      " [0.90095579 0.13829926 0.48302087]\n",
      " [0.24576921 0.63604493 0.8093776 ]\n",
      " [0.07303403 0.3656496  0.41157234]]\n"
     ]
    },
    {
     "data": {
      "text/plain": [
       "array([0.74315426, 0.73605095, 0.44724062, 0.62661379, 0.40590487,\n",
       "       0.61230686, 0.67577048, 0.48302087, 0.63604493, 0.41157234])"
      ]
     },
     "execution_count": 42,
     "metadata": {},
     "output_type": "execute_result"
    }
   ],
   "source": [
    "#Exircise 1\n",
    "a = np.random.random((10, 3))\n",
    "near = a[np.arange(10),np.absolute(a - 0.5).argmin(axis = 1)]\n",
    "print(a)\n",
    "near"
   ]
  },
  {
   "cell_type": "code",
   "execution_count": 40,
   "metadata": {},
   "outputs": [
    {
     "name": "stdout",
     "output_type": "stream",
     "text": [
      "[[0.40487831 0.65757798 0.23454218 0.88196259 0.18129067 0.45651392]\n",
      " [0.39207456 0.45502963 0.56160925 0.03544999 0.27419151 0.43249465]\n",
      " [0.22821349 0.42166803 0.69299632 0.93679155 0.27667232 0.80175364]\n",
      " [0.22258578 0.37683817 0.28694033 0.03574493 0.59776132 0.97192301]\n",
      " [0.15249349 0.36278723 0.40454694 0.95269569 0.03935872 0.67084771]\n",
      " [0.38304063 0.02422877 0.2790014  0.99271568 0.25049449 0.56252453]]\n"
     ]
    },
    {
     "data": {
      "text/plain": [
       "array([18.47138259, 88.77254494, 14.31766077, 70.2903857 , 65.62026872,\n",
       "        5.76193374])"
      ]
     },
     "execution_count": 40,
     "metadata": {},
     "output_type": "execute_result"
    }
   ],
   "source": [
    "#Exercise 2\n",
    "a = np.random.random((6,6))\n",
    "b = a.sum(axis = 1)/a.min(axis = 0)\n",
    "print(a)\n",
    "b"
   ]
  },
  {
   "cell_type": "code",
   "execution_count": 57,
   "metadata": {},
   "outputs": [
    {
     "data": {
      "text/plain": [
       "100"
      ]
     },
     "execution_count": 57,
     "metadata": {},
     "output_type": "execute_result"
    }
   ],
   "source": [
    "#Exercise 3\n",
    "x = np.array([6, 2, 0, 3, 0, 0, 5, 0, 100])\n",
    "mask = x == 0\n",
    "#print(mask[:-1])\n",
    "#x[1:]\n",
    "x[1:][mask[:-1]].max()"
   ]
  },
  {
   "cell_type": "code",
   "execution_count": 59,
   "metadata": {},
   "outputs": [
    {
     "name": "stdout",
     "output_type": "stream",
     "text": [
      "[1. 1. 1. 1. 1. 1. 1. 1. 1. 1.]\n",
      "[2. 2. 2. 2. 1. 4. 1. 1. 2. 1.]\n"
     ]
    }
   ],
   "source": [
    "#Exercise 4\n",
    "x = np.ones(10)\n",
    "i = np.array([0, 1, 2, 3, 5, 5, 5, 8])\n",
    "print(x)\n",
    "np.add.at(x, i, 1)\n",
    "\n",
    "print(x)"
   ]
  },
  {
   "cell_type": "code",
   "execution_count": 65,
   "metadata": {},
   "outputs": [
    {
     "name": "stdout",
     "output_type": "stream",
     "text": [
      "[[ 0  1  2  3]\n",
      " [ 4  5  6  7]\n",
      " [ 8  9 10 11]\n",
      " [12 13 14 15]]\n"
     ]
    },
    {
     "data": {
      "text/plain": [
       "{0: [0],\n",
       " 1: [1, 4],\n",
       " 2: [2, 5, 8],\n",
       " 3: [3, 6, 9, 12],\n",
       " 4: [7, 10, 13],\n",
       " 5: [11, 14],\n",
       " 6: [15]}"
      ]
     },
     "execution_count": 65,
     "metadata": {},
     "output_type": "execute_result"
    }
   ],
   "source": [
    "#Exercises 5\n",
    "a = np.arange(16).reshape(4, 4)\n",
    "n = a.shape[0]\n",
    "#for i in range(2 * n - 1):\n",
    "dictionary = {i : [a[j, i - j] for j in range(i + 1) if j < n and i - j < n] for i in range(n * 2 - 1)}\n",
    "print(a)\n",
    "dictionary"
   ]
  },
  {
   "cell_type": "code",
   "execution_count": null,
   "metadata": {},
   "outputs": [],
   "source": []
  },
  {
   "cell_type": "code",
   "execution_count": 159,
   "metadata": {},
   "outputs": [],
   "source": [
    "def get_labels(points, centroids):\n",
    "    '''Get index number of closest centroid to each item in X\n",
    "\n",
    "    Parameters\n",
    "    ----------\n",
    "    pts : ndarray\n",
    "        Array of points.\n",
    "    centroids : ndarray\n",
    "        Array of centroids.\n",
    "\n",
    "    Returns\n",
    "    -------\n",
    "    res : ndarray\n",
    "        Indices of closest centroids for each item in X.\n",
    "    '''\n",
    "    dist = np.hstack([np.linalg.norm(points - centroid, axis=1).reshape(-1, 1) for centroid in centroids])\n",
    "    return np.argmin(dist, axis=1)\n"
   ]
  },
  {
   "cell_type": "code",
   "execution_count": 160,
   "metadata": {},
   "outputs": [],
   "source": [
    "#Exercise 6\n",
    "#k-means\n",
    "import matplotlib.pyplot as plt\n",
    "\n",
    "\n",
    "\n",
    "\n",
    "data = np.loadtxt('http://www.stat.cmu.edu/~larry/all-of-statistics/=data/faithful.dat', skiprows=26)[:, 1:]\n",
    "def get_distance(points, centroids, labels):\n",
    "    return sum( \\\n",
    "        np.linalg.norm(points[labels == label] - centroids[label], axis=1).sum() \\\n",
    "            for label in range(centroids.shape[0]) \\\n",
    "    ) / points.shape[0]\n",
    "def kmeans(obs, k_or_guess, iter = 10, eps = 1e-05):\n",
    "    if not isinstance(k_or_guess, np.ndarray):\n",
    "        centroids = np.random.random((k_or_guess, obs.shape[1]))\n",
    "    else:\n",
    "        centroids = np.copy(k_or_guess)\n",
    "    labels = get_labels(obs, centroids)\n",
    "    distance = get_distance(obs, centroids, labels)\n",
    "    min_distance = distance\n",
    "    real_centers = centroids\n",
    "    while True:\n",
    "        centroids = np.array([obs[labels == label].mean(axis=0) for label in range(centroids.shape[0])])\n",
    "        labels = get_labels(obs, centroids)\n",
    "        past_distance = distance\n",
    "        distance = get_distance(obs, centroids, labels)\n",
    "        if distance < min_distance:\n",
    "            min_distance = distance\n",
    "            real_centers = centroids\n",
    "        if not isinstance(k_or_guess, np.ndarray):\n",
    "            iter -= 1\n",
    "            if iter == 0:\n",
    "                break\n",
    "        \n",
    "        if abs(distance - past_distance) < eps:\n",
    "            break\n",
    "\n",
    "    return real_centers, min_distance\n",
    "\n",
    "\n"
   ]
  },
  {
   "cell_type": "code",
   "execution_count": 161,
   "metadata": {},
   "outputs": [],
   "source": [
    "#labels = get_labels(data, centroids)"
   ]
  },
  {
   "cell_type": "code",
   "execution_count": 163,
   "metadata": {},
   "outputs": [
    {
     "name": "stderr",
     "output_type": "stream",
     "text": [
      "C:\\Users\\Kristina Kuslina\\Anaconda3\\lib\\site-packages\\ipykernel_launcher.py:23: RuntimeWarning: Mean of empty slice.\n"
     ]
    },
    {
     "data": {
      "image/png": "[encoded data removed]",
      "text/plain": [
       "<Figure size 432x288 with 1 Axes>"
      ]
     },
     "metadata": {
      "needs_background": "light"
     },
     "output_type": "display_data"
    }
   ],
   "source": [
    "import scipy.cluster\n",
    "\n",
    "data_centroids, data_distance = kmeans(data, 2)\n",
    "data_labels = get_labels(data, data_centroids)\n",
    "\n",
    "plt.scatter(*data.T, c=np.where(data_labels, \"blue\", \"red\"), s=20)\n",
    "plt.scatter(*data_centroids.T, c=[\"red\", \"blue\"], s=95, marker='*')\n",
    "plt.title('Clasters')\n",
    "plt.show()\n"
   ]
  },
  {
   "cell_type": "code",
   "execution_count": null,
   "metadata": {},
   "outputs": [],
   "source": []
  },
  {
   "cell_type": "code",
   "execution_count": null,
   "metadata": {},
   "outputs": [],
   "source": []
  }
 ],
 "metadata": {
  "kernelspec": {
   "display_name": "Python 3",
   "language": "python",
   "name": "python3"
  },
  "language_info": {
   "codemirror_mode": {
    "name": "ipython",
    "version": 3
   },
   "file_extension": ".py",
   "mimetype": "text/x-python",
   "name": "python",
   "nbconvert_exporter": "python",
   "pygments_lexer": "ipython3",
   "version": "3.7.3"
  }
 },
 "nbformat": 4,
 "nbformat_minor": 2
}
