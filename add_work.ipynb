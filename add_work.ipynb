{
 "cells": [
  {
   "cell_type": "code",
   "execution_count": null,
   "metadata": {},
   "outputs": [],
   "source": [
    "#Exercise1\n",
    "print('Enter your name, please')\n",
    "name = input()\n",
    "print('Enter your age, please')\n",
    "age = int(input())\n",
    "print(name,', your 100 BD be in ', 2019+(100-age),sep='')"
   ]
  },
  {
   "cell_type": "code",
   "execution_count": null,
   "metadata": {},
   "outputs": [],
   "source": [
    "#Exercise2\n",
    "print('Enter number, please')\n",
    "number = int(input())\n",
    "if number % 2 == 1 :\n",
    "    print('Your number is odd')\n",
    "else:\n",
    "    print('Your number is even')"
   ]
  },
  {
   "cell_type": "code",
   "execution_count": null,
   "metadata": {},
   "outputs": [],
   "source": [
    "#Exercise8\n",
    "print('Hello, lets start our game')\n",
    "print('Rock-R, Paper-P, Scissors-S')\n",
    "print('Enter your names, please')\n",
    "player1 = input('player1 :')\n",
    "player2 = input('player2 :')\n",
    "print('You can start')\n",
    "while(1):\n",
    "    step1 = input()\n",
    "    step2 = input()\n",
    "    if (step1 == 'R')&(step2 == 'S'):\n",
    "        print(player1, 'WIN!')\n",
    "        break\n",
    "    elif (step1 == 'S')&(step2 == 'R'):\n",
    "        print(player2, 'WIN!')\n",
    "        break\n",
    "    elif (step1 == 'R')&(step2 == 'P'):\n",
    "        print(player2, 'WIN!')\n",
    "        break\n",
    "    elif (step1 == 'P')&(step2 == 'R'):\n",
    "        print(player1, 'WIN!')\n",
    "        break\n",
    "    elif (step1 == 'P')&(step2 == 'S'):\n",
    "        print(player2, 'WIN!')\n",
    "        break\n",
    "    elif (step1 == 'S')&(step2 == 'P'):\n",
    "        print(player1, 'WIN!')\n",
    "        break"
   ]
  },
  {
   "cell_type": "code",
   "execution_count": null,
   "metadata": {},
   "outputs": [],
   "source": [
    "#Exircise9\n",
    "import random\n",
    "print('Hello, lets start our game')\n",
    "print('Try to guess the number from 1 to 9')\n",
    "my_number = random.randint(1,10)\n",
    "print(my_number)\n",
    "his_number = int(input())\n",
    "while(my_number > his_number):\n",
    "    print('my_number > your_number')\n",
    "    his_number = int(input())\n",
    "while(my_number < his_number):\n",
    "    print('my_number < your_number')\n",
    "    his_number = int(input())\n",
    "if his_number == my_number:\n",
    "    print('YES! You are wright!')"
   ]
  }
 ],
 "metadata": {
  "kernelspec": {
   "display_name": "Python 3",
   "language": "python",
   "name": "python3"
  },
  "language_info": {
   "codemirror_mode": {
    "name": "ipython",
    "version": 3
   },
   "file_extension": ".py",
   "mimetype": "text/x-python",
   "name": "python",
   "nbconvert_exporter": "python",
   "pygments_lexer": "ipython3",
   "version": "3.7.0"
  }
 },
 "nbformat": 4,
 "nbformat_minor": 2
}
